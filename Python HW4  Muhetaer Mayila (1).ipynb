{
 "cells": [
  {
   "cell_type": "markdown",
   "metadata": {},
   "source": [
    "# Programming with Python\n",
    "# Semester 1 2020 Fall\n",
    "# Assignment number 4\n",
    "# Name: Muhetaer Mayila"
   ]
  },
  {
   "cell_type": "markdown",
   "metadata": {},
   "source": [
    "# Q1 Answer:Calculate the #of input scores that are =, >,< the average"
   ]
  },
  {
   "cell_type": "code",
   "execution_count": 2,
   "metadata": {},
   "outputs": [
    {
     "name": "stdout",
     "output_type": "stream",
     "text": [
      "Enter the scores: \n",
      "90.5 79.7 98.8 76.0 89.5 94.0 87.2 67.0 86.5 77.7 98.8 83.5 79.9 88.8 71.0 84.5\n",
      "Number of Scores in the input: 16\n",
      "The Average Score: 84.5875\n",
      "The number of scores above or equal to average are: 8\n",
      "The number of scores below to average are: 8\n"
     ]
    }
   ],
   "source": [
    "print(\"Enter the scores: \")     #input 90.5 79.7 98.8 76.0 89.5 94.0 87.2 67.0 86.5 77.7 98.8 83.5 79.9 88.8 71.0 84.5 \n",
    "\n",
    "scores =[float(x) for x in input().split()]                  #indicate the folat scores not integer\n",
    "\n",
    "# Counting average\n",
    "\n",
    "sum_scores = 0\n",
    "\n",
    "for x in scores:\n",
    "    sum_scores = sum_scores + x\n",
    "    avg_scores = sum_scores / len(scores)     \n",
    "\n",
    "# Calculating the number of that above average and below average\n",
    "\n",
    "above_avg = 0\n",
    "\n",
    "below_avg = 0\n",
    "\n",
    "for x in scores:\n",
    "    if(x>=avg_scores):\n",
    "        above_avg = above_avg+1\n",
    "    else:\n",
    "        below_avg= below_avg+1\n",
    "       \n",
    " # Displaying the result taht requirements asks for\n",
    "\n",
    "\n",
    "print(\"Number of Scores in the input:\",len(scores))\n",
    "print(\"The Average Score:\",avg_scores)\n",
    "print(\"The number of scores above or equal to average are:\",above_avg)\n",
    "\n",
    "print(\"The number of scores below to average are:\",below_avg)\n",
    "\n",
    "\n",
    "  "
   ]
  },
  {
   "cell_type": "code",
   "execution_count": null,
   "metadata": {},
   "outputs": [],
   "source": []
  },
  {
   "cell_type": "markdown",
   "metadata": {},
   "source": [
    "# Q2 Program:Calculate the percentage improvement in Life Expectancy between 1960 and 2013 for each country who achieved 100% or more improvement in Life Expectancy  \n"
   ]
  },
  {
   "cell_type": "code",
   "execution_count": 76,
   "metadata": {},
   "outputs": [
    {
     "name": "stdout",
     "output_type": "stream",
     "text": [
      "Country Code \t\t % increase in LE\n",
      "BTN \t\t\t 113.54\n",
      "MDV \t\t\t 105.53\n",
      "MLI \t\t\t 103.97\n",
      "TLS \t\t\t 100.18\n"
     ]
    }
   ],
   "source": [
    "country = [\"ABW\",\"AFG\",\"AGO\",\"ALB\",\"ARE\",\"ARG\",\"ARM\",\"ATG\",\"AUS\",\"AUT\",\"AZE\",\"BDI\",\"BEL\",\"BEN\",\"BFA\",\"BGD\",\"BGR\",\"BHR\",\"BHS\",\"BIH\",\"BLR\",\"BLZ\",\"BOL\",\"BRA\",\"BRB\",\"BRN\",\"BTN\",\"BWA\",\"CAF\",\"CAN\",\"CHE\",\"CHL\",\"CHN\",\"CIV\",\"CMR\",\"COG\",\"COL\",\"COM\",\"CPV\",\"CRI\",\"CUB\",\"CYP\",\"CZE\",\"DEU\",\"DJI\",\"DNK\",\"DOM\",\"DZA\",\"ECU\",\"EGY\",\"ERI\",\"ESP\",\"EST\",\"ETH\",\"FIN\",\"FJI\",\"FRA\",\"FSM\",\"GAB\",\"GBR\",\"GEO\",\"GHA\",\"GIN\",\"GMB\",\"GNB\",\"GNQ\",\"GRC\",\"GRD\",\"GTM\",\"GUM\",\"GUY\",\"HKG\",\"HND\",\"HRV\",\"HTI\",\"HUN\",\"IDN\",\"IND\",\"IRL\",\"IRN\",\"IRQ\",\"ISL\",\"ITA\",\"JAM\",\"JOR\",\"JPN\",\"KAZ\",\"KEN\",\"KGZ\",\"KHM\",\"KIR\",\"KOR\",\"KWT\",\"LAO\",\"LBN\",\"LBR\",\"LBY\",\"LCA\",\"LKA\",\"LSO\",\"LTU\",\"LUX\",\"LVA\",\"MAC\",\"MAR\",\"MDA\",\"MDG\",\"MDV\",\"MEX\",\"MKD\",\"MLI\",\"MLT\",\"MMR\",\"MNE\",\"MNG\",\"MOZ\",\"MRT\",\"MUS\",\"MWI\",\"MYS\",\"NAM\",\"NCL\",\"NER\",\"NGA\",\"NIC\",\"NLD\",\"NOR\",\"NPL\",\"NZL\",\"OMN\",\"PAK\",\"PAN\",\"PER\",\"PHL\",\"PNG\",\"POL\",\"PRI\",\"PRT\",\"PRY\",\"PYF\",\"QAT\",\"ROU\",\"RUS\",\"RWA\",\"SAU\",\"SDN\",\"SEN\",\"SGP\",\"SLB\",\"SLE\",\"SLV\",\"SOM\",\"SSD\",\"STP\",\"SUR\",\"SVK\",\"SVN\",\"SWE\",\"SWZ\",\"SYR\",\"TCD\",\"TGO\",\"THA\",\"TJK\",\"TKM\",\"TLS\",\"TON\",\"TTO\",\"TUN\",\"TUR\",\"TZA\",\"UGA\",\"UKR\",\"URY\",\"USA\",\"UZB\",\"VCT\",\"VEN\",\"VIR\",\"VNM\",\"VUT\",\"WSM\",\"YEM\",\"ZAF\",\"COD\",\"ZMB\",\"ZWE\"]\n",
    "LE_1960 = [65.57, 32.33, 32.98, 62.25, 52.24, 65.22, 65.86, 61.78, 70.82, 68.59, 60.84, 41.24, 69.7, 37.28, 34.48, 45.83, 69.25, 52.09, 62.73, 60.28, 67.71, 59.96, 42.12, 54.21, 60.74, 62.5, 32.36, 50.55, 36.48, 71.13, 71.31, 57.46, 43.47, 36.87, 41.52, 48.58, 56.72, 41.44, 48.86, 60.58, 63.9, 69.59, 70.35, 69.31, 44.02, 72.18, 51.85, 46.14, 53.22, 48.01, 37.36, 69.11, 67.91, 38.41, 68.82, 55.96, 69.87, 57.59, 39.57, 71.13, 63.43, 45.83, 34.89, 32.04, 37.84, 36.73, 68.16, 59.82, 45.53, 61.23, 60.28, 67.0, 46.29, 64.61, 42.1, 68.0, 48.64, 41.17, 69.69, 44.95, 48.03, 73.43, 69.12, 64.19, 52.69, 67.67, 58.37, 46.36, 56.13, 41.23, 49.22, 53.0, 60.35, 43.2, 63.28, 34.78, 42.64, 57.3, 59.75, 46.51, 69.85, 68.45, 69.79, 64.66, 48.45, 61.81, 39.97, 37.27, 57.07, 60.62, 28.21, 67.6, 42.74, 63.71, 48.37, 35.0, 43.48, 58.75, 37.77, 59.48, 46.88, 58.64, 35.52, 37.18, 47.0, 73.39, 73.55, 35.17, 71.24, 42.67, 45.29, 60.88, 47.69, 57.81, 38.46, 67.68, 68.72, 62.81, 63.79, 56.36, 61.21, 65.64, 66.06, 42.25, 45.67, 48.19, 38.21, 65.66, 49.38, 30.33, 49.95, 36.97, 31.68, 50.45, 59.68, 69.98, 68.98, 73.01, 44.23, 52.77, 38.02, 40.27, 54.7, 56.15, 54.46, 33.73, 61.36, 62.66, 42.01, 45.38, 43.65, 43.98, 68.3, 67.9, 69.77, 58.89, 57.72, 59.29, 63.73, 59.07, 46.49, 49.97, 34.36, 49.04, 41.02, 45.11, 51.54]\n",
    "LE_2013 = [75.33, 60.03, 51.87, 77.54, 77.2, 75.99, 74.56, 75.78, 82.2, 80.89, 70.69, 56.25, 80.39, 59.31, 58.24, 71.25, 74.47, 76.55, 75.07, 76.28, 72.47, 69.98, 67.91, 74.12, 75.33, 78.55, 69.1, 64.36, 49.88, 81.4, 82.75, 81.2, 75.35, 51.21, 55.04, 61.67, 73.81, 62.93, 72.97, 79.23, 79.26, 79.95, 78.28, 81.04, 61.69, 80.3, 73.32, 74.57, 75.65, 70.93, 63.18, 82.43, 76.42, 63.44, 80.83, 69.92, 81.97, 68.97, 63.84, 80.96, 74.08, 61.14, 58.22, 60.0, 54.84, 57.29, 80.63, 73.19, 71.49, 78.87, 66.31, 83.83, 72.94, 77.13, 62.4, 75.27, 68.7, 67.66, 81.04, 75.13, 69.47, 83.12, 82.29, 73.47, 73.9, 83.33, 70.45, 60.95, 70.2, 67.77, 65.77, 81.46, 74.46, 65.69, 80.13, 60.52, 71.66, 74.91, 74.24, 49.33, 74.16, 81.8, 73.98, 80.34, 73.71, 68.81, 64.67, 76.6, 76.53, 75.19, 57.54, 80.75, 65.65, 74.76, 69.06, 54.64, 62.8, 74.46, 61.47, 74.57, 64.34, 77.12, 60.83, 52.44, 74.51, 81.1, 81.45, 69.22, 81.41, 76.84, 65.96, 77.42, 74.28, 68.13, 62.45, 76.85, 78.71, 80.37, 72.8, 76.33, 78.42, 74.46, 71.07, 63.39, 74.18, 63.17, 65.88, 82.35, 67.72, 50.36, 72.5, 55.02, 55.22, 66.26, 70.99, 76.26, 80.28, 81.7, 48.94, 74.72, 51.19, 59.13, 74.25, 69.4, 65.46, 67.52, 72.64, 70.31, 73.65, 75.18, 64.29, 57.77, 71.16, 76.84, 78.84, 68.23, 72.81, 74.07, 79.62, 75.76, 71.67, 73.25, 63.58, 56.74, 58.27, 59.24, 55.63]\n",
    "\n",
    "# above list are given\n",
    "\n",
    "new_list=[]\n",
    "\n",
    "for k in range(len(country)):\n",
    "    ((LE_2013[k]-LE_1960[k])*100)/LE_1960[k]\n",
    "    # formula used to calculate life expectancy in percentage\n",
    "    new_list.append(round(((LE_2013[k]-LE_1960[k])/LE_1960[k])*100,2))\n",
    "    \n",
    "print(\"Country Code\",\"\\t\\t\",\"% increase in LE\")\n",
    "\n",
    "\n",
    "for k in range(len(country)):\n",
    "    if new_list[k]>=100:                             # orint the new list whose country code has >= 100% life expectancy\n",
    "        print(country[k], \"\\t\\t\\t\", new_list[k])\n",
    "   "
   ]
  },
  {
   "cell_type": "code",
   "execution_count": null,
   "metadata": {},
   "outputs": [],
   "source": []
  },
  {
   "cell_type": "markdown",
   "metadata": {},
   "source": [
    "# Q3 Program:create an updated volunteers list"
   ]
  },
  {
   "cell_type": "code",
   "execution_count": 64,
   "metadata": {},
   "outputs": [
    {
     "name": "stdout",
     "output_type": "stream",
     "text": [
      "The name of volunteers in the updated list are:  ['Rob', 'Jason', 'Melissa', 'Kara', 'Jessica', 'Mark', 'Anna', 'Kayla', 'James', 'Justin', 'Tabu', 'Nadir', 'Samuel', 'Samantha', 'Stephene', 'Shahida', 'Jennie', 'Andrea', 'Kadir', 'Sania', 'Jose', 'Nicholas', 'Anthony', 'Emma', 'Emanuel', 'Justin2', 'Malia', 'Katrina', 'Zubeida', 'Syed', 'Jessica2', 'Simeone', 'Tabu2', 'Yingzhu', 'Claire', 'Alex', 'Katie', 'Samuel2']\n"
     ]
    }
   ],
   "source": [
    "volunteers = [\"Rob\",\"Jason\",\"Melissa\",\"Kara\", \"Jessica\", \"Mark\", \"Anna\",\"Kayla\",\n",
    "              \"Claire\",\"James\", \"Justin\",\"Tabu\", \"Nadir\", \"Samuel\", \"Samantha\", \n",
    "              \"Stephene\", \"Joshua\",\"Shahida\", \"Janus\",\"Jennie\", \"Andrea\", \"Kadir\", \n",
    "              \"Sania\", \"Soham\", \"Jose\", \"Nicholas\", \"Anthony\", \"Emma\", \n",
    "              \"Emanuel\",\"Justin2\",\"Malia\", \"Katrina\",\"Zubeida\"]\n",
    "seniors = [\"Claire\",\"Joshua\",\"Soham\",\"Jimmy\",\"Janus\",\"Andrew\",\"Sona\"]\n",
    "new_volunteers = [\"Syed\",\"Jessica\",\"Simeone\",\"Tabu\",\"Yingzhu\",\"Claire\",\"Alex\", \n",
    "                  \"Katie\",\"Samuel\"]\n",
    "\n",
    "#above are given information lists\n",
    "\n",
    "updated_volunteer_list = []\n",
    "\n",
    "\n",
    "for volunteer in volunteers:        #the updated volunteer list should include the volunteers that are not in the seniors list\n",
    "    if volunteer not in seniors:\n",
    "        updated_volunteer_list.append(volunteer)\n",
    "\n",
    "        \n",
    "for i in range(len(new_volunteers)):\n",
    "    count = 1\n",
    "    \n",
    "    if new_volunteers[i] in updated_volunteer_list:          # if new voluntters names is in the updated list, name can only be shown once\n",
    "        count+=1\n",
    "        updated_volunteer_list.append(new_volunteers[i]+str(count))\n",
    "        \n",
    "    elif new_volunteers[i] not in updated_volunteer_list:\n",
    "        updated_volunteer_list.append(new_volunteers[i])\n",
    "        \n",
    "        \n",
    "print(\"The name of volunteers in the updated list are: \", updated_volunteer_list)"
   ]
  },
  {
   "cell_type": "code",
   "execution_count": null,
   "metadata": {},
   "outputs": [],
   "source": []
  },
  {
   "cell_type": "markdown",
   "metadata": {},
   "source": [
    "# Q4 Program:number of whales seen on Monday for 28 consecutive days"
   ]
  },
  {
   "cell_type": "code",
   "execution_count": 56,
   "metadata": {},
   "outputs": [
    {
     "name": "stdout",
     "output_type": "stream",
     "text": [
      "The number of whales seen on Monday is:  14\n"
     ]
    }
   ],
   "source": [
    "whales = [5,4,7,3,2,3,2,6,4,2,1,7,1,4,4,5,3,6,8,5,7,0,1,4,2,3,3,5]         #this is the given list\n",
    "\n",
    "sum=0\n",
    "for i in range(1,len(whales),7):        # for loop indicates number of whales seen on moday( per 7 days have 1 monday)\n",
    "    sum+=whales[i]\n",
    "    \n",
    "print(\"The number of whales seen on Monday is: \", sum)"
   ]
  },
  {
   "cell_type": "code",
   "execution_count": null,
   "metadata": {},
   "outputs": [],
   "source": []
  },
  {
   "cell_type": "markdown",
   "metadata": {},
   "source": [
    "# Q5 Program:names of all students who got a score of 95 or more in a list"
   ]
  },
  {
   "cell_type": "code",
   "execution_count": 50,
   "metadata": {},
   "outputs": [
    {
     "name": "stdout",
     "output_type": "stream",
     "text": [
      "students who got a score of 95 or more are:  ['Mary', 'Dean', 'Monica', 'Cheng', 'Fatima']\n"
     ]
    }
   ],
   "source": [
    "students = [\"Robin\",\"Emily\",\"Mary\",\"Joe\",\"Dean\",\"Claire\",\"Anne\",\"Yingzhu\",\"James\",\n",
    "            \"Monica\",\"Tess\",\"Anaya\",\"Cheng\",\"Tammy\",\"Fatima\"]\n",
    "scores  = [87, 72, 98, 93, 96, 65, 78, 83, 85, 97, 89, 65, 96, 82, 98]\n",
    "\n",
    "\n",
    "wise_guys = []              #given a wise guys list\n",
    "\n",
    "\n",
    "for i in range(len(scores)):\n",
    "    if scores[i] >= 95:                    #if scores in students greater and equal than 95\n",
    "        wise_guys.append(students[i])\n",
    "        \n",
    "    \n",
    "print(\"students who got a score of 95 or more are: \", wise_guys)"
   ]
  },
  {
   "cell_type": "code",
   "execution_count": null,
   "metadata": {},
   "outputs": [],
   "source": []
  },
  {
   "cell_type": "markdown",
   "metadata": {},
   "source": [
    "# Q6 Program:date and time when hw was executed"
   ]
  },
  {
   "cell_type": "code",
   "execution_count": 1,
   "metadata": {},
   "outputs": [
    {
     "name": "stdout",
     "output_type": "stream",
     "text": [
      "\n",
      " Finished execution at  2020-11-19 20:35:08.711719\n",
      "mmuhe\n"
     ]
    }
   ],
   "source": [
    "import datetime\n",
    "import getpass\n",
    "print(\"\\n\",\"Finished execution at \", datetime.datetime.now())\n",
    "print(getpass.getuser())\n"
   ]
  },
  {
   "cell_type": "code",
   "execution_count": null,
   "metadata": {},
   "outputs": [],
   "source": []
  },
  {
   "cell_type": "code",
   "execution_count": null,
   "metadata": {},
   "outputs": [],
   "source": []
  }
 ],
 "metadata": {
  "kernelspec": {
   "display_name": "Python 3",
   "language": "python",
   "name": "python3"
  },
  "language_info": {
   "codemirror_mode": {
    "name": "ipython",
    "version": 3
   },
   "file_extension": ".py",
   "mimetype": "text/x-python",
   "name": "python",
   "nbconvert_exporter": "python",
   "pygments_lexer": "ipython3",
   "version": "3.8.3"
  }
 },
 "nbformat": 4,
 "nbformat_minor": 2
}
